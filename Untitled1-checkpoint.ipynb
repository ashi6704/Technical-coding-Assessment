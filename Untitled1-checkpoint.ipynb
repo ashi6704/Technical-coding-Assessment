{
 "cells": [
  {
   "cell_type": "markdown",
   "id": "9c0a2a99",
   "metadata": {},
   "source": [
    "# Technical Coding Assessment\n"
   ]
  },
  {
   "cell_type": "code",
   "execution_count": 11,
   "id": "b71048aa",
   "metadata": {},
   "outputs": [
    {
     "name": "stdout",
     "output_type": "stream",
     "text": [
      "Enter length of side a: 3\n",
      "Enter length of side b: 4\n",
      "Enter length of side c: 5\n",
      "Triangle is Valid.\n"
     ]
    }
   ],
   "source": [
    "def is_valid_triangle(a,b,c):\n",
    "    if a+b>=c and b+c>=a and c+a>=b:\n",
    "        return True\n",
    "    else:\n",
    "        return False\n",
    "    \n",
    "side_a = float(input('Enter length of side a: '))\n",
    "side_b = float(input('Enter length of side b: '))\n",
    "side_c = float(input('Enter length of side c: '))\n",
    "\n",
    "if is_valid_triangle(side_a, side_b, side_c):\n",
    "    print('Triangle is Valid.')\n",
    "else:\n",
    "    print('Triangle is Invalid.')"
   ]
  },
  {
   "cell_type": "code",
   "execution_count": 4,
   "id": "967fb579",
   "metadata": {},
   "outputs": [
    {
     "name": "stdout",
     "output_type": "stream",
     "text": [
      "Enter length of side a: 2\n",
      "Enter length of side b: 4\n",
      "Enter length of side c: 2\n",
      "Enter length of side d: 4\n",
      "Valid\n"
     ]
    }
   ],
   "source": [
    "def isRectangle(a, b, c, d):\n",
    "    if (a == b and d == c) or (a == c and b == d) or (a == d and b == c):\n",
    "        return True\n",
    "    else:\n",
    "        return False\n",
    "side_a = float(input('Enter length of side a: '))\n",
    "side_b = float(input('Enter length of side b: '))\n",
    "side_c = float(input('Enter length of side c: '))\n",
    "side_d = float(input('Enter length of side d: '))    \n",
    "\n",
    "print(\"Valid\" if isRectangle(side_a, side_b, side_c, side_d) else \"Invalid\")\n",
    " "
   ]
  },
  {
   "cell_type": "code",
   "execution_count": null,
   "id": "bfd9bc7d",
   "metadata": {},
   "outputs": [],
   "source": []
  }
 ],
 "metadata": {
  "kernelspec": {
   "display_name": "Python 3 (ipykernel)",
   "language": "python",
   "name": "python3"
  },
  "language_info": {
   "codemirror_mode": {
    "name": "ipython",
    "version": 3
   },
   "file_extension": ".py",
   "mimetype": "text/x-python",
   "name": "python",
   "nbconvert_exporter": "python",
   "pygments_lexer": "ipython3",
   "version": "3.10.5"
  }
 },
 "nbformat": 4,
 "nbformat_minor": 5
}
